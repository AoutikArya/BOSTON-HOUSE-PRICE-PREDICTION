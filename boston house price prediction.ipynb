{
 "cells": [
  {
   "cell_type": "code",
   "execution_count": 1,
   "id": "7b595190",
   "metadata": {},
   "outputs": [],
   "source": [
    "\n",
    "from sklearn.datasets import load_boston\n",
    "\n",
    "import numpy as np\n",
    "import pandas as pd\n",
    "import matplotlib.pyplot as plt"
   ]
  },
  {
   "cell_type": "code",
   "execution_count": 2,
   "id": "7bf719b3",
   "metadata": {},
   "outputs": [],
   "source": [
    "data_b=load_boston()\n",
    "x=data_b.data\n",
    "y=data_b.target"
   ]
  },
  {
   "cell_type": "code",
   "execution_count": 3,
   "id": "f42e4378",
   "metadata": {},
   "outputs": [],
   "source": [
    "\n",
    "from sklearn.model_selection import train_test_split\n",
    "x_train,x_test,y_train,y_test=train_test_split(x,y,test_size=0.25,random_state=77)\n",
    "\n",
    "from sklearn.preprocessing import MinMaxScaler\n"
   ]
  },
  {
   "cell_type": "code",
   "execution_count": 4,
   "id": "d9c74260",
   "metadata": {},
   "outputs": [],
   "source": [
    "\n",
    "sc=MinMaxScaler(feature_range=(0,1))\n",
    "x_train=sc.fit_transform(x_train)\n",
    "x_test=sc.fit_transform(x_test)\n",
    "y_train=y_train.reshape(-1,1)\n",
    "y_train=sc.fit_transform(y_train)\n"
   ]
  },
  {
   "cell_type": "code",
   "execution_count": 5,
   "id": "f625a02c",
   "metadata": {},
   "outputs": [
    {
     "data": {
      "text/plain": [
       "LinearRegression()"
      ]
     },
     "execution_count": 5,
     "metadata": {},
     "output_type": "execute_result"
    }
   ],
   "source": [
    "\n",
    "from sklearn.linear_model import LinearRegression\n",
    "lr=LinearRegression()\n",
    "lr.fit(x_train,y_train)\n"
   ]
  },
  {
   "cell_type": "code",
   "execution_count": 6,
   "id": "13a7ccb0",
   "metadata": {},
   "outputs": [],
   "source": [
    "\n",
    "predicted_lr=lr.predict(x_test)\n",
    "predicted_lr=sc.inverse_transform(predicted_lr)\n",
    "\n",
    "\n"
   ]
  },
  {
   "cell_type": "code",
   "execution_count": 7,
   "id": "109002d7",
   "metadata": {},
   "outputs": [],
   "source": [
    "\n",
    "from sklearn.metrics import mean_absolute_error\n",
    "from sklearn.metrics import mean_squared_error\n",
    "from sklearn.metrics import r2_score"
   ]
  },
  {
   "cell_type": "code",
   "execution_count": 8,
   "id": "975f62ef",
   "metadata": {},
   "outputs": [],
   "source": [
    "mae=mean_absolute_error(y_test,predicted_lr)\n",
    "mse=mean_squared_error(y_test,predicted_lr)\n",
    "rmse=math.sqrt(mse)\n"
   ]
  },
  {
   "cell_type": "code",
   "execution_count": null,
   "id": "5f0e4f41",
   "metadata": {},
   "outputs": [],
   "source": [
    "mae,"
   ]
  }
 ],
 "metadata": {
  "kernelspec": {
   "display_name": "Python 3",
   "language": "python",
   "name": "python3"
  },
  "language_info": {
   "codemirror_mode": {
    "name": "ipython",
    "version": 3
   },
   "file_extension": ".py",
   "mimetype": "text/x-python",
   "name": "python",
   "nbconvert_exporter": "python",
   "pygments_lexer": "ipython3",
   "version": "3.8.8"
  }
 },
 "nbformat": 4,
 "nbformat_minor": 5
}
